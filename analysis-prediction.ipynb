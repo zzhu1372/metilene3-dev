{
 "cells": [
  {
   "cell_type": "code",
   "execution_count": null,
   "id": "6a28d082",
   "metadata": {},
   "outputs": [],
   "source": [
    "import pandas as pd\n",
    "import seaborn as sns"
   ]
  },
  {
   "cell_type": "code",
   "execution_count": null,
   "id": "0d204fbc-05d5-41e1-95f3-fe54204fcf40",
   "metadata": {},
   "outputs": [],
   "source": [
    "c = 0.6"
   ]
  },
  {
   "cell_type": "code",
   "execution_count": null,
   "id": "b6713d1a",
   "metadata": {},
   "outputs": [],
   "source": [
    "DMRs = pd.read_table(\"DMR_annotation_beta_40_3_1.2_0.8_ratio.\"+str(c)+\".bed\", header=None)\n",
    "DMRs.index = DMRs[0]+'.'+DMRs[1].astype(str)+'.'+DMRs[2].astype(str)\n",
    "DMRs"
   ]
  },
  {
   "cell_type": "code",
   "execution_count": null,
   "id": "c8c12582-745f-461f-9985-7c101e85d641",
   "metadata": {},
   "outputs": [],
   "source": [
    "pd.crosstab(DMRs[7],DMRs[6])"
   ]
  },
  {
   "cell_type": "code",
   "execution_count": null,
   "id": "63f31dc8",
   "metadata": {},
   "outputs": [],
   "source": [
    "inDMRs = {}\n",
    "inDMRs2 = {}\n",
    "for i in DMRs.index:\n",
    "    for j in range(int(DMRs[1][i])+1, int(DMRs[2][i]+1)):\n",
    "        inDMRs[j] = DMRs[6][i]\n",
    "        inDMRs2[j] = DMRs[3][i]"
   ]
  },
  {
   "cell_type": "code",
   "execution_count": null,
   "id": "39e68504-f4a7-4d7f-9ae9-1181f0ba373b",
   "metadata": {},
   "outputs": [],
   "source": [
    "DMR_order = {\n",
    "    '0,1,2|3,4':0, \n",
    "    '0|others':1, \n",
    "    '1|others':2, \n",
    "    '2|others':3, \n",
    "    '3|others':4, \n",
    "    '4|others':5,\n",
    "    '0|1,2':6, \n",
    "    '3|4':7,\n",
    "}"
   ]
  },
  {
   "cell_type": "code",
   "execution_count": null,
   "id": "794083e3-e9f5-498f-b35d-be50dd353a04",
   "metadata": {
    "scrolled": true
   },
   "outputs": [],
   "source": [
    "Predictions = pd.read_table(\"N5x10_chr10_digits2.s1t1000c\"+str(int(c*100))+\".hpc.res\", encoding='iso-8859-1', skiprows=90)\n",
    "Predictions_anno = pd.read_table(\"N5x10_chr10_digits2.s1t1000c\"+str(int(c*100))+\".hpc.res\", encoding='iso-8859-1', sep='@', header=None).head(90)"
   ]
  },
  {
   "cell_type": "code",
   "execution_count": null,
   "id": "288a7d71-f323-48b7-837f-54bdefc3f8e4",
   "metadata": {},
   "outputs": [],
   "source": [
    "Predictions.index = Predictions['chr']+'.'+\\\n",
    "                    Predictions['start'].astype(str)+'.'+\\\n",
    "                    Predictions['stop'].astype(str)\n",
    "\n",
    "id_convert = {}\n",
    "for i in Predictions_anno.index:\n",
    "    id_convert[int(Predictions_anno.loc[i][0].split(':')[0].split('Combination ')[1])] = \\\n",
    "    Predictions_anno.loc[i][0].split('Group A subgroups: ')[1].split(',\tGroup B subgroups: ')[0]+'|'+\\\n",
    "    Predictions_anno.loc[i][0].split('Group A subgroups: ')[1].split(',\tGroup B subgroups: ')[1][:-1]\n",
    "\n",
    "Predictions['sig.comparison'] = Predictions['sig.comparison'].map(id_convert)"
   ]
  },
  {
   "cell_type": "code",
   "execution_count": null,
   "id": "e72cf31b-f413-42f4-bf67-55d3b906f338",
   "metadata": {},
   "outputs": [],
   "source": [
    "df_res = pd.merge(DMRs, Predictions, left_index=True, right_index=True, how='outer').fillna('NA')\n",
    "cmp = pd.crosstab(df_res[6], df_res['sig.comparison'])\n",
    "cmp_short = cmp[pd.crosstab(df_res[6], df_res['sig.comparison']).T.idxmax()[:-1]]\n",
    "cmp_short['#simulated'] = cmp_short.index.map(pd.crosstab(DMRs[6],DMRs[7]).T.sum())\n",
    "cmp_short"
   ]
  },
  {
   "cell_type": "code",
   "execution_count": null,
   "id": "58c2a86b-5190-4bb1-93f1-6f8ab2457c08",
   "metadata": {},
   "outputs": [],
   "source": [
    "pd.DataFrame(cmp.T['3|4'].sort_values(ascending=0)[:5])"
   ]
  },
  {
   "cell_type": "code",
   "execution_count": null,
   "id": "0c91bd2c-c2ea-4989-9021-01639a9e5803",
   "metadata": {},
   "outputs": [],
   "source": [
    "pd.DataFrame(cmp.T['0|1,2'].sort_values(ascending=0)[:5])"
   ]
  }
 ],
 "metadata": {
  "kernelspec": {
   "display_name": "Python 3 (ipykernel)",
   "language": "python",
   "name": "python3"
  },
  "language_info": {
   "codemirror_mode": {
    "name": "ipython",
    "version": 3
   },
   "file_extension": ".py",
   "mimetype": "text/x-python",
   "name": "python",
   "nbconvert_exporter": "python",
   "pygments_lexer": "ipython3",
   "version": "3.11.4"
  }
 },
 "nbformat": 4,
 "nbformat_minor": 5
}

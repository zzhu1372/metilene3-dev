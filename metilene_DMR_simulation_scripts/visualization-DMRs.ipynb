{
 "cells": [
  {
   "cell_type": "code",
   "execution_count": null,
   "id": "6a28d082",
   "metadata": {},
   "outputs": [],
   "source": [
    "import pandas as pd\n",
    "import seaborn as sns"
   ]
  },
  {
   "cell_type": "code",
   "execution_count": null,
   "id": "b6713d1a",
   "metadata": {},
   "outputs": [],
   "source": [
    "DMRs = pd.read_table(\"DMR_annotation_beta.40.3_ratio.1.bed\", header=None)\n",
    "DMRs.index = DMRs[0]+'.'+DMRs[1].astype(str)+'.'+DMRs[2].astype(str)\n",
    "DMRs"
   ]
  },
  {
   "cell_type": "code",
   "execution_count": null,
   "id": "c8c12582-745f-461f-9985-7c101e85d641",
   "metadata": {},
   "outputs": [],
   "source": [
    "pd.crosstab(DMRs[6],DMRs[7])"
   ]
  },
  {
   "cell_type": "code",
   "execution_count": null,
   "id": "63f31dc8",
   "metadata": {},
   "outputs": [],
   "source": [
    "inDMRs = {}\n",
    "inDMRs2 = {}\n",
    "for i in DMRs.index:\n",
    "    for j in range(int(DMRs[1][i]), int(DMRs[2][i]+1)):\n",
    "        inDMRs[j] = DMRs[6][i]\n",
    "        inDMRs2[j] = DMRs[3][i]"
   ]
  },
  {
   "cell_type": "code",
   "execution_count": null,
   "id": "39e68504-f4a7-4d7f-9ae9-1181f0ba373b",
   "metadata": {},
   "outputs": [],
   "source": [
    "DMR_order = {\n",
    "    '0,1,2|3,4':0, \n",
    "    '0|others':1, \n",
    "    '1|others':2, \n",
    "    '2|others':3, \n",
    "    '3|others':4, \n",
    "    '4|others':5,\n",
    "    '0|1,2':6, \n",
    "    '3|4':7,\n",
    "}"
   ]
  },
  {
   "cell_type": "code",
   "execution_count": null,
   "id": "b70addf4",
   "metadata": {
    "scrolled": true
   },
   "outputs": [],
   "source": [
    "beta = pd.read_table('beta.40.3_ratio.1.metilene')\n",
    "beta['DMR'] = beta['pos'].map(inDMRs)\n",
    "beta['DMRo'] = beta['DMR'].map(DMR_order)\n",
    "beta['diff'] = beta['pos'].map(inDMRs2)\n",
    "beta = beta.dropna().sort_values(['DMRo','diff'])\n",
    "beta"
   ]
  },
  {
   "cell_type": "code",
   "execution_count": null,
   "id": "53751620-c012-4518-8d78-5db664053ec0",
   "metadata": {},
   "outputs": [],
   "source": [
    "pd.crosstab(beta['DMR'],beta['DMRo'])"
   ]
  },
  {
   "cell_type": "code",
   "execution_count": null,
   "id": "7b856bcf-03da-43df-9715-c6f3f755ac0b",
   "metadata": {},
   "outputs": [],
   "source": [
    "dict_sample_color = {}\n",
    "dict_group_color = {}\n",
    "for i in range(7):\n",
    "    dict_group_color[str(i)] = sns.color_palette(\"Set2\")[i]\n",
    "for i in beta.columns[2:-3]:\n",
    "    dict_sample_color[i] = dict_group_color[i.split('_')[0]]\n",
    "\n",
    "sns.color_palette(\"Set2\")"
   ]
  },
  {
   "cell_type": "code",
   "execution_count": null,
   "id": "d9db7a99-5c7d-4f1d-8682-e0127176633a",
   "metadata": {},
   "outputs": [],
   "source": [
    "sns.clustermap(beta[beta.columns[2:-3]],method='ward',\n",
    "               # row_cluster=False,\n",
    "               col_colors=beta.columns[2:-3].map(dict_sample_color),\n",
    "               cmap='coolwarm', figsize=[5,5], xticklabels=False, yticklabels=False)"
   ]
  },
  {
   "cell_type": "code",
   "execution_count": null,
   "id": "6ec5f545-873a-4214-a168-3c2f1b8b6271",
   "metadata": {},
   "outputs": [],
   "source": [
    "for i in DMR_order.keys():\n",
    "    print(i+'(N='+str(sum(DMRs[6]==i))+')') \n",
    "    cm = sns.clustermap(beta[beta['DMR']==i][beta.columns[2:-3]],\n",
    "                   method='ward',\n",
    "                   col_colors=beta.columns[2:-3].map(dict_sample_color),\n",
    "                   cmap='coolwarm', figsize=[3,3], \n",
    "                   xticklabels=False, yticklabels=False)\n",
    "    cm.cax.set_visible(False)\n",
    "    cm.fig.suptitle(i+'(N='+str(sum(DMRs[6]==i))+')') "
   ]
  },
  {
   "cell_type": "code",
   "execution_count": null,
   "id": "794083e3-e9f5-498f-b35d-be50dd353a04",
   "metadata": {
    "scrolled": true
   },
   "outputs": [],
   "source": [
    "Predictions = pd.read_table(\"prediction.res\", encoding='iso-8859-1', skiprows=90)\n",
    "Predictions_anno = pd.read_table(\"prediction.res\", encoding='iso-8859-1', sep='@', header=None).head(90)"
   ]
  },
  {
   "cell_type": "code",
   "execution_count": null,
   "id": "288a7d71-f323-48b7-837f-54bdefc3f8e4",
   "metadata": {},
   "outputs": [],
   "source": [
    "Predictions.sort_values('start').tail()"
   ]
  },
  {
   "cell_type": "code",
   "execution_count": null,
   "id": "aa4b3554-cfc3-4692-98d8-21d2c5b84c23",
   "metadata": {},
   "outputs": [],
   "source": [
    "Predictions.index = Predictions['chr']+'.'+\\\n",
    "                    Predictions['start'].astype(str)+'.'+\\\n",
    "                    Predictions['stop'].astype(str)\n",
    "df_res = pd.merge(DMRs, Predictions, left_index=True, right_index=True, how='outer').fillna('NA')\n",
    "cmp = pd.crosstab(df_res[6], df_res['sig.comparison'])[pd.crosstab(df_res[6], df_res['sig.comparison']).T.idxmax()[:-1]]\n",
    "cmp['simulated'] = cmp.index.map(pd.crosstab(DMRs[6],DMRs[7]).T.sum())\n",
    "cmp"
   ]
  },
  {
   "cell_type": "code",
   "execution_count": null,
   "id": "1f72514d-8ec0-4711-80e5-5eb9f4644f32",
   "metadata": {},
   "outputs": [],
   "source": [
    "for i in pd.crosstab(df_res[6], df_res['sig.comparison']).T.idxmax()[:-1]:\n",
    "    print(Predictions_anno.loc[i][0])"
   ]
  },
  {
   "cell_type": "code",
   "execution_count": null,
   "id": "0d2dabd1-e7cc-43b7-aaea-035d0771265a",
   "metadata": {},
   "outputs": [],
   "source": [
    "for i in pd.crosstab(df_res[6], df_res['sig.comparison']).T.sort_values('3|4', ascending=False).index[:20]:\n",
    "    try:\n",
    "        print(pd.crosstab(df_res[6], df_res['sig.comparison']).T['3|4'][i], Predictions_anno.loc[i][0])\n",
    "    except:\n",
    "        pass"
   ]
  }
 ],
 "metadata": {
  "kernelspec": {
   "display_name": "Python 3 (ipykernel)",
   "language": "python",
   "name": "python3"
  },
  "language_info": {
   "codemirror_mode": {
    "name": "ipython",
    "version": 3
   },
   "file_extension": ".py",
   "mimetype": "text/x-python",
   "name": "python",
   "nbconvert_exporter": "python",
   "pygments_lexer": "ipython3",
   "version": "3.11.4"
  }
 },
 "nbformat": 4,
 "nbformat_minor": 5
}

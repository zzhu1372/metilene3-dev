{
 "cells": [
  {
   "cell_type": "code",
   "execution_count": null,
   "id": "6a28d082",
   "metadata": {},
   "outputs": [],
   "source": [
    "import pandas as pd\n",
    "import seaborn as sns"
   ]
  },
  {
   "cell_type": "code",
   "execution_count": null,
   "id": "b6713d1a",
   "metadata": {},
   "outputs": [],
   "source": [
    "DMRs = pd.read_table(\"./DMR_annotation_beta.40.3_ratio.1.bed\", header=None)\n",
    "DMRs.index = DMRs[0]+'.'+DMRs[1].astype(str)+'.'+DMRs[2].astype(str)\n",
    "DMRs"
   ]
  },
  {
   "cell_type": "code",
   "execution_count": null,
   "id": "c8c12582-745f-461f-9985-7c101e85d641",
   "metadata": {},
   "outputs": [],
   "source": [
    "pd.crosstab(DMRs[6],DMRs[7])"
   ]
  },
  {
   "cell_type": "code",
   "execution_count": null,
   "id": "63f31dc8",
   "metadata": {},
   "outputs": [],
   "source": [
    "inDMRs = {}\n",
    "inDMRs2 = {}\n",
    "for i in DMRs.sample(200, random_state=1).index:\n",
    "    for j in range(int(DMRs[1][i]), int(DMRs[2][i]+1)):\n",
    "        inDMRs[j] = DMRs[6][i]\n",
    "        inDMRs2[j] = DMRs[3][i]"
   ]
  },
  {
   "cell_type": "code",
   "execution_count": null,
   "id": "39e68504-f4a7-4d7f-9ae9-1181f0ba373b",
   "metadata": {},
   "outputs": [],
   "source": [
    "DMR_order = {\n",
    "    '0,1,2|3,4':0, \n",
    "    '0|others':1, \n",
    "    '1|others':2, \n",
    "    '2|others':3, \n",
    "    '3|others':4, \n",
    "    '4|others':5,\n",
    "    '0|1,2':6, \n",
    "    '3|4':7,\n",
    "}"
   ]
  },
  {
   "cell_type": "code",
   "execution_count": null,
   "id": "b70addf4",
   "metadata": {},
   "outputs": [],
   "source": [
    "beta = pd.read_table('./beta.40.3_ratio.1.5grps.metilene')\n",
    "beta['DMR'] = beta['pos'].map(inDMRs)\n",
    "beta['DMRo'] = beta['DMR'].map(DMR_order)\n",
    "beta['diff'] = beta['pos'].map(inDMRs2)\n",
    "beta = beta.dropna().sort_values(['DMRo','diff'])\n",
    "beta"
   ]
  },
  {
   "cell_type": "code",
   "execution_count": null,
   "id": "53751620-c012-4518-8d78-5db664053ec0",
   "metadata": {},
   "outputs": [],
   "source": [
    "pd.crosstab(beta['DMR'],beta['DMRo'])"
   ]
  },
  {
   "cell_type": "code",
   "execution_count": null,
   "id": "d9db7a99-5c7d-4f1d-8682-e0127176633a",
   "metadata": {},
   "outputs": [],
   "source": [
    "sns.clustermap(beta[beta.columns[2:-3]],\n",
    "               row_cluster=False,\n",
    "               cmap='coolwarm',\n",
    "               figsize=[2,12])"
   ]
  },
  {
   "cell_type": "code",
   "execution_count": null,
   "id": "6ec5f545-873a-4214-a168-3c2f1b8b6271",
   "metadata": {},
   "outputs": [],
   "source": [
    "sns.clustermap(beta[beta['DMR']=='0,1,2|3,4'][beta.columns[2:-2]],row_cluster=False,cmap='coolwarm')"
   ]
  },
  {
   "cell_type": "code",
   "execution_count": null,
   "id": "aa4b3554-cfc3-4692-98d8-21d2c5b84c23",
   "metadata": {},
   "outputs": [],
   "source": [
    "Predictions = pd.read_table(\"../../beta.40.3_ratio.1.5grps.metilene.res\", encoding='iso-8859-1')\n",
    "Predictions.index = Predictions['chr']+'.'+Predictions['start'].astype(str)+'.'+Predictions['stop'].astype(str)\n",
    "df_res = pd.merge(DMRs, Predictions, left_index=True, right_index=True, how='outer').fillna('NA')\n",
    "pd.crosstab(df_res[6], df_res['sig.comparison'])"
   ]
  }
 ],
 "metadata": {
  "kernelspec": {
   "display_name": "Python 3 (ipykernel)",
   "language": "python",
   "name": "python3"
  },
  "language_info": {
   "codemirror_mode": {
    "name": "ipython",
    "version": 3
   },
   "file_extension": ".py",
   "mimetype": "text/x-python",
   "name": "python",
   "nbconvert_exporter": "python",
   "pygments_lexer": "ipython3",
   "version": "3.11.4"
  }
 },
 "nbformat": 4,
 "nbformat_minor": 5
}

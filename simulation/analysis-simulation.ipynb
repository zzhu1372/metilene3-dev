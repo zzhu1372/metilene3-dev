{
 "cells": [
  {
   "cell_type": "code",
   "execution_count": null,
   "id": "6a28d082",
   "metadata": {},
   "outputs": [],
   "source": [
    "import pandas as pd\n",
    "import seaborn as sns"
   ]
  },
  {
   "cell_type": "code",
   "execution_count": null,
   "id": "0d204fbc-05d5-41e1-95f3-fe54204fcf40",
   "metadata": {},
   "outputs": [],
   "source": [
    "c = 0.6"
   ]
  },
  {
   "cell_type": "code",
   "execution_count": null,
   "id": "b6713d1a",
   "metadata": {},
   "outputs": [],
   "source": [
    "DMRs = pd.read_table(\"DMR_annotation_beta_40_3_1.2_0.8_ratio.\"+str(c)+\".bed\", header=None)\n",
    "DMRs.index = DMRs[0]+'.'+DMRs[1].astype(str)+'.'+DMRs[2].astype(str)\n",
    "DMRs"
   ]
  },
  {
   "cell_type": "code",
   "execution_count": null,
   "id": "c8c12582-745f-461f-9985-7c101e85d641",
   "metadata": {},
   "outputs": [],
   "source": [
    "pd.crosstab(DMRs[7],DMRs[6])"
   ]
  },
  {
   "cell_type": "code",
   "execution_count": null,
   "id": "63f31dc8",
   "metadata": {},
   "outputs": [],
   "source": [
    "inDMRs = {}\n",
    "inDMRs2 = {}\n",
    "for i in DMRs.index:\n",
    "    for j in range(int(DMRs[1][i])+1, int(DMRs[2][i]+1)):\n",
    "        inDMRs[j] = DMRs[6][i]\n",
    "        inDMRs2[j] = DMRs[3][i]"
   ]
  },
  {
   "cell_type": "code",
   "execution_count": null,
   "id": "39e68504-f4a7-4d7f-9ae9-1181f0ba373b",
   "metadata": {},
   "outputs": [],
   "source": [
    "DMR_order = {\n",
    "    '0,1,2|3,4':0, \n",
    "    '0|others':1, \n",
    "    '1|others':2, \n",
    "    '2|others':3, \n",
    "    '3|others':4, \n",
    "    '4|others':5,\n",
    "    '0|1,2':6, \n",
    "    '3|4':7,\n",
    "}"
   ]
  },
  {
   "cell_type": "code",
   "execution_count": null,
   "id": "b70addf4",
   "metadata": {},
   "outputs": [],
   "source": [
    "beta = pd.read_table('beta_40_3_1.2_0.8_ratio.'+str(c)+'.metilene')\n",
    "beta['DMR'] = beta['pos'].map(inDMRs)\n",
    "beta['DMRo'] = beta['DMR'].map(DMR_order)\n",
    "beta['promoter'] = beta['pos'].map(inDMRs2)\n",
    "beta = beta.dropna().sort_values(['DMRo','promoter'])\n",
    "beta"
   ]
  },
  {
   "cell_type": "code",
   "execution_count": null,
   "id": "7b856bcf-03da-43df-9715-c6f3f755ac0b",
   "metadata": {},
   "outputs": [],
   "source": [
    "dict_sample_color = {}\n",
    "dict_group_color = {}\n",
    "for i in range(7):\n",
    "    dict_group_color[str(i)] = sns.color_palette(\"Set2\")[i]\n",
    "for i in beta.columns[2:-3]:\n",
    "    dict_sample_color[i] = dict_group_color[i.split('_')[0]]\n",
    "\n",
    "sns.color_palette(\"Set2\")"
   ]
  },
  {
   "cell_type": "code",
   "execution_count": null,
   "id": "d9db7a99-5c7d-4f1d-8682-e0127176633a",
   "metadata": {},
   "outputs": [],
   "source": [
    "sns.clustermap(beta[beta.columns[2:-3]],method='ward',\n",
    "               # row_cluster=False,\n",
    "               col_colors=beta.columns[2:-3].map(dict_sample_color),\n",
    "               cmap='coolwarm', figsize=[5,5], xticklabels=False, yticklabels=False)"
   ]
  },
  {
   "cell_type": "code",
   "execution_count": null,
   "id": "6ec5f545-873a-4214-a168-3c2f1b8b6271",
   "metadata": {},
   "outputs": [],
   "source": [
    "for i in DMR_order.keys():\n",
    "    print(i+'(N='+str(sum(DMRs[6]==i))+')') \n",
    "    cm = sns.clustermap(beta[beta['DMR']==i][beta.columns[2:-3]],\n",
    "                   method='ward',\n",
    "                   col_colors=beta.columns[2:-3].map(dict_sample_color),\n",
    "                   cmap='coolwarm', figsize=[3,3], \n",
    "                   xticklabels=False, yticklabels=False)\n",
    "    cm.cax.set_visible(False)\n",
    "    cm.fig.suptitle(i+'(N='+str(sum(DMRs[6]==i))+')') "
   ]
  }
 ],
 "metadata": {
  "kernelspec": {
   "display_name": "Python 3 (ipykernel)",
   "language": "python",
   "name": "python3"
  },
  "language_info": {
   "codemirror_mode": {
    "name": "ipython",
    "version": 3
   },
   "file_extension": ".py",
   "mimetype": "text/x-python",
   "name": "python",
   "nbconvert_exporter": "python",
   "pygments_lexer": "ipython3",
   "version": "3.11.4"
  }
 },
 "nbformat": 4,
 "nbformat_minor": 5
}

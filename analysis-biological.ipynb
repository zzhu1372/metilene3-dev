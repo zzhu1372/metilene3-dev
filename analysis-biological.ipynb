{
 "cells": [
  {
   "cell_type": "code",
   "execution_count": null,
   "id": "8363bae7-47bf-46e2-907b-cf9e86dc4ff7",
   "metadata": {},
   "outputs": [],
   "source": [
    "import datatable as dt\n",
    "import pandas as pd\n",
    "import os\n",
    "import seaborn as sns"
   ]
  },
  {
   "cell_type": "code",
   "execution_count": null,
   "id": "1a2788c8-29a3-4147-9d0a-b2124b3b7b22",
   "metadata": {
    "scrolled": true
   },
   "outputs": [],
   "source": [
    "rename = {}\n",
    "idx = 0\n",
    "for i in os.listdir('.'):\n",
    "    if i[:3]=='GSM' and i[-3:]=='bed' and i.find('Blood')!=-1:\n",
    "        rename[idx] = {}\n",
    "        rename[idx]['ID'] = i.split('_')[0]\n",
    "        rename[idx][\"type\"] = i.split('Blood-')[1].split('-')[0]\n",
    "        idx+=1"
   ]
  },
  {
   "cell_type": "code",
   "execution_count": null,
   "id": "db20f912-1d99-4b97-9636-ad0960c8a15b",
   "metadata": {},
   "outputs": [],
   "source": [
    "type = {}\n",
    "idx = 0\n",
    "for i in pd.DataFrame(rename).T['type'].unique():\n",
    "    type[i] = idx\n",
    "    idx +=1 \n",
    "type"
   ]
  },
  {
   "cell_type": "code",
   "execution_count": null,
   "id": "6f5e1f5d-01fa-43fa-9597-e3f483c8277d",
   "metadata": {},
   "outputs": [],
   "source": [
    "df = pd.read_table(\"./Blood.metilene.chr2x.noNA.input\", header=None)\n",
    "df.columns = 'chrom\tpos'.split('\\t')+list(pd.DataFrame(rename).T['type'].map(type).astype(str)+'_'+pd.DataFrame(rename).T['ID'])\n",
    "df.to_csv('./Blood.metilene.chr2x.noNA.input',sep='\\t',index=False, float_format='%.3f')\n",
    "df"
   ]
  },
  {
   "cell_type": "code",
   "execution_count": null,
   "id": "b9b93003-b8b8-4d33-948b-50378cccfa1f",
   "metadata": {
    "scrolled": true
   },
   "outputs": [],
   "source": [
    "DMRs = pd.read_table('../metilene_output/Blood.metilene.chr2x.noNA.output', skiprows=90)\n",
    "DMRs = DMRs.loc[DMRs['chr'] =='chr2']\n",
    "inDMRs = {}\n",
    "inDMRs2 = {}\n",
    "for i in DMRs.index:\n",
    "    for j in range(int(DMRs['start'][i])+1, int(DMRs['stop'][i]+1)):\n",
    "        inDMRs[j] = DMRs['sig.comparison'][i]\n",
    "        inDMRs2[j] = DMRs['p'][i]\n",
    "DMRs"
   ]
  },
  {
   "cell_type": "code",
   "execution_count": null,
   "id": "04c8e32b-dd75-468a-8552-9ac5b6c6ed0c",
   "metadata": {},
   "outputs": [],
   "source": [
    "DMRs[DMRs['sig.comparison']==57].sort_values('start')"
   ]
  },
  {
   "cell_type": "code",
   "execution_count": null,
   "id": "ad3bc7aa-6c70-40af-ae67-41324a9c5d0f",
   "metadata": {},
   "outputs": [],
   "source": [
    "pd.crosstab(DMRs['sig.comparison'],DMRs['sig.comparison']).sum().sort_values(ascending=0).index[:5]"
   ]
  },
  {
   "cell_type": "code",
   "execution_count": null,
   "id": "73ecb817-4492-4195-8611-4d1608d60b47",
   "metadata": {},
   "outputs": [],
   "source": [
    "id_convert = {}\n",
    "Predictions_anno = pd.read_table(\"../metilene_output/Blood.metilene.chr2x.noNA.output\", encoding='iso-8859-1', sep='@', header=None).head(90)\n",
    "for i in Predictions_anno.index:\n",
    "    id_convert[int(Predictions_anno.loc[i][0].split(':')[0].split('Combination ')[1])] = \\\n",
    "    Predictions_anno.loc[i][0].split('Group A subgroups: ')[1].split(',\tGroup B subgroups: ')[0]+'|'+\\\n",
    "    Predictions_anno.loc[i][0].split('Group A subgroups: ')[1].split(',\tGroup B subgroups: ')[1][:-1]"
   ]
  },
  {
   "cell_type": "code",
   "execution_count": null,
   "id": "31c9d2ed-8adf-4679-a7e0-e6542691624e",
   "metadata": {},
   "outputs": [],
   "source": [
    "df.index = df['pos']\n",
    "df = df.loc[df['chrom']=='chr2']\n",
    "\n",
    "df['inDMR'] = df['pos'].map(inDMRs)\n",
    "df['p'] = df['pos'].map(inDMRs2)"
   ]
  },
  {
   "cell_type": "code",
   "execution_count": null,
   "id": "a9dd76cb-f3ce-48fb-b6b3-6ab1036177da",
   "metadata": {},
   "outputs": [],
   "source": [
    "for i in pd.crosstab(DMRs['sig.comparison'],DMRs['sig.comparison']).sum().sort_values(ascending=0).index[:5]:\n",
    "    print(id_convert[i])\n",
    "    cm = sns.clustermap(df.loc[df['inDMR']==i].sort_values('p')\\\n",
    "                   [list(pd.DataFrame(rename).T['type'].map(type).astype(str)+'_'+pd.DataFrame(rename).T['ID'])],\\\n",
    "                   cmap='coolwarm', figsize=[12,3], method='ward', row_cluster=False)\n",
    "    cm.cax.set_visible(False)\n",
    "    cm.fig.suptitle(id_convert[i]) "
   ]
  },
  {
   "cell_type": "code",
   "execution_count": null,
   "id": "e70b40ea-99ed-44cf-ae1a-70c50cb487fb",
   "metadata": {},
   "outputs": [],
   "source": [
    "for i in [57]:\n",
    "    print(id_convert[i])\n",
    "    cm = sns.clustermap(df.loc[df['pos'].map(inDMRs)==i]\\\n",
    "                   [list(pd.DataFrame(rename).T['type'].map(type).astype(str)+'_'+pd.DataFrame(rename).T['ID'])],\\\n",
    "                   cmap='coolwarm', figsize=[12,12], method='ward', row_cluster=False)\n",
    "    cm.cax.set_visible(False)\n",
    "    cm.fig.suptitle(id_convert[i]) "
   ]
  },
  {
   "cell_type": "code",
   "execution_count": null,
   "id": "72006728-0415-4bd2-98d7-c0d48910165b",
   "metadata": {},
   "outputs": [],
   "source": [
    "# 3261322\t3261610\n",
    "cm = sns.clustermap(df.loc[(df['pos']>=3259478)&(df['pos']<=3261895)]\\\n",
    "               [list(pd.DataFrame(rename).T['type'].map(type).astype(str)+'_'+pd.DataFrame(rename).T['ID'])],\\\n",
    "               cmap='coolwarm', figsize=[12,6], method='ward', row_cluster=False)\n",
    "cm.cax.set_visible(False)\n",
    "cm.fig.suptitle('pub') "
   ]
  },
  {
   "cell_type": "code",
   "execution_count": null,
   "id": "5590f405-ee33-4af4-a8f0-3974d049e96f",
   "metadata": {},
   "outputs": [],
   "source": [
    "# 3261322\t3261610\n",
    "cm = sns.clustermap(df.loc[(df['pos']>=3261322)&(df['pos']<=3261610)]\\\n",
    "               [list(pd.DataFrame(rename).T['type'].map(type).astype(str)+'_'+pd.DataFrame(rename).T['ID'])],\\\n",
    "               cmap='coolwarm', figsize=[12,6], method='ward', row_cluster=False)\n",
    "cm.cax.set_visible(False)\n",
    "cm.fig.suptitle('pub') "
   ]
  },
  {
   "cell_type": "code",
   "execution_count": null,
   "id": "272ace85-32b9-4286-acb3-32fa5324abd5",
   "metadata": {},
   "outputs": [],
   "source": [
    "df.loc[df['pos'].map(inDMRs)==i].sort_values('p')"
   ]
  }
 ],
 "metadata": {
  "kernelspec": {
   "display_name": "Python 3 (ipykernel)",
   "language": "python",
   "name": "python3"
  },
  "language_info": {
   "codemirror_mode": {
    "name": "ipython",
    "version": 3
   },
   "file_extension": ".py",
   "mimetype": "text/x-python",
   "name": "python",
   "nbconvert_exporter": "python",
   "pygments_lexer": "ipython3",
   "version": "3.11.4"
  }
 },
 "nbformat": 4,
 "nbformat_minor": 5
}

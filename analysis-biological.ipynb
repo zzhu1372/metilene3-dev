{
 "cells": [
  {
   "cell_type": "code",
   "execution_count": 1,
   "id": "8363bae7-47bf-46e2-907b-cf9e86dc4ff7",
   "metadata": {},
   "outputs": [
    {
     "data": {
      "text/html": [
       "<style type='text/css'>\n",
       ".datatable table.frame { margin-bottom: 0; }\n",
       ".datatable table.frame thead { border-bottom: none; }\n",
       ".datatable table.frame tr.coltypes td {  color: #FFFFFF;  line-height: 6px;  padding: 0 0.5em;}\n",
       ".datatable .bool    { background: #DDDD99; }\n",
       ".datatable .object  { background: #565656; }\n",
       ".datatable .int     { background: #5D9E5D; }\n",
       ".datatable .float   { background: #4040CC; }\n",
       ".datatable .str     { background: #CC4040; }\n",
       ".datatable .time    { background: #40CC40; }\n",
       ".datatable .row_index {  background: var(--jp-border-color3);  border-right: 1px solid var(--jp-border-color0);  color: var(--jp-ui-font-color3);  font-size: 9px;}\n",
       ".datatable .frame tbody td { text-align: left; }\n",
       ".datatable .frame tr.coltypes .row_index {  background: var(--jp-border-color0);}\n",
       ".datatable th:nth-child(2) { padding-left: 12px; }\n",
       ".datatable .hellipsis {  color: var(--jp-cell-editor-border-color);}\n",
       ".datatable .vellipsis {  background: var(--jp-layout-color0);  color: var(--jp-cell-editor-border-color);}\n",
       ".datatable .na {  color: var(--jp-cell-editor-border-color);  font-size: 80%;}\n",
       ".datatable .sp {  opacity: 0.25;}\n",
       ".datatable .footer { font-size: 9px; }\n",
       ".datatable .frame_dimensions {  background: var(--jp-border-color3);  border-top: 1px solid var(--jp-border-color0);  color: var(--jp-ui-font-color3);  display: inline-block;  opacity: 0.6;  padding: 1px 10px 1px 5px;}\n",
       "</style>\n"
      ],
      "text/plain": [
       "<IPython.core.display.HTML object>"
      ]
     },
     "metadata": {},
     "output_type": "display_data"
    }
   ],
   "source": [
    "import datatable as dt\n",
    "import pandas as pd\n",
    "import os\n",
    "import seaborn as sns\n",
    "import matplotlib.pyplot as plt"
   ]
  },
  {
   "cell_type": "code",
   "execution_count": 2,
   "id": "1a2788c8-29a3-4147-9d0a-b2124b3b7b22",
   "metadata": {
    "scrolled": true
   },
   "outputs": [],
   "source": [
    "rename = {}\n",
    "idx = 0\n",
    "for i in os.listdir('.'):\n",
    "    if i[:3]=='GSM' and i[-3:]=='bed' and i.find('Blood')!=-1:\n",
    "        rename[idx] = {}\n",
    "        rename[idx]['ID'] = i.split('_')[0]\n",
    "        rename[idx][\"type\"] = i.split('Blood-')[1].split('-')[0]\n",
    "        idx+=1"
   ]
  },
  {
   "cell_type": "code",
   "execution_count": 3,
   "id": "db20f912-1d99-4b97-9636-ad0960c8a15b",
   "metadata": {},
   "outputs": [
    {
     "data": {
      "text/plain": [
       "{'T': 0, 'NK': 1, 'Monocytes': 2, 'Granulocytes': 3, 'B': 4}"
      ]
     },
     "execution_count": 3,
     "metadata": {},
     "output_type": "execute_result"
    }
   ],
   "source": [
    "type = {}\n",
    "idx = 0\n",
    "for i in pd.DataFrame(rename).T['type'].unique():\n",
    "    type[i] = idx\n",
    "    idx +=1 \n",
    "type"
   ]
  },
  {
   "cell_type": "code",
   "execution_count": null,
   "id": "8306f2f4-1007-40b3-a3e3-4c513107d2cc",
   "metadata": {},
   "outputs": [],
   "source": [
    "df = pd.read_table(\"./Blood.metilene.chr2x.input\", header=None, skiprows=3)\n",
    "df.columns = 'chrom\tpos'.split('\\t')+list(pd.DataFrame(rename).T['type'].map(type).astype(str)+'_'+pd.DataFrame(rename).T['ID'])\n",
    "df"
   ]
  },
  {
   "cell_type": "code",
   "execution_count": null,
   "id": "b02f883b-ce30-4f17-87c2-710c39eb528e",
   "metadata": {},
   "outputs": [],
   "source": [
    "# 3261322\t3261610\n",
    "cm = sns.clustermap(1*df.loc[(df['chrom']=='chr2')&(df['pos']>= 3255001)&(df['pos']<=3273001)].fillna(100)\\\n",
    "               [list(pd.DataFrame(rename).T['type'].map(type).astype(str)+'_'+pd.DataFrame(rename).T['ID'])].T,\\\n",
    "               cmap='mako_r', figsize=[6,10], method='ward', dendrogram_ratio=0.01, xticklabels=False, col_cluster=False, row_cluster=False)\n",
    "cm.cax.set_visible(False)\n",
    "# cm.fig.suptitle('pub') "
   ]
  },
  {
   "cell_type": "code",
   "execution_count": null,
   "id": "a7189a53-4b94-4501-baa5-cd7ba0fe4d3d",
   "metadata": {},
   "outputs": [],
   "source": [
    "df.dropna().to_csv('./Blood.metilene.chr2x.noNA.input',sep='\\t',index=False, float_format='%.3f')"
   ]
  },
  {
   "cell_type": "code",
   "execution_count": null,
   "id": "25ac0ac2-f795-439c-8b20-7b500d56f5f7",
   "metadata": {},
   "outputs": [],
   "source": [
    "# 3261322\t3261610\n",
    "cm = sns.clustermap(1*df.loc[(df['chrom']=='chr2')&(df['pos']>= 3255001)&(df['pos']<=3273001)].dropna()\\\n",
    "               [list(pd.DataFrame(rename).T['type'].map(type).astype(str)+'_'+pd.DataFrame(rename).T['ID'])].T,\\\n",
    "               cmap='coolwarm', figsize=[6,10], method='ward', dendrogram_ratio=0.01, xticklabels=False, col_cluster=False, row_cluster=False)\n",
    "cm.cax.set_visible(False)\n",
    "# cm.fig.suptitle('pub') "
   ]
  },
  {
   "cell_type": "code",
   "execution_count": null,
   "id": "23d9387a-60cf-4ead-a5ba-a9f65534b5fb",
   "metadata": {},
   "outputs": [],
   "source": [
    "means = {}\n",
    "for i in type.values():\n",
    "    means[str(i)] = df[df.columns[df.columns.str.contains(str(i)+'_')]].T.mean()\n",
    "\n",
    "for i in list(pd.DataFrame(rename).T['type'].map(type).astype(str)+'_'+pd.DataFrame(rename).T['ID']):\n",
    "    df[i] = df[i].fillna(means[i.split('_')[0]])\n",
    "\n",
    "df = df.fillna(0.5)\n",
    "df.to_csv('./Blood.metilene.chr2x.fillNA.input',sep='\\t',index=False, float_format='%.3f')\n",
    "df"
   ]
  },
  {
   "cell_type": "code",
   "execution_count": null,
   "id": "72006728-0415-4bd2-98d7-c0d48910165b",
   "metadata": {},
   "outputs": [],
   "source": [
    "# 3261322\t3261610\n",
    "cm = sns.clustermap(df.loc[(df['chrom']=='chr2')&(df['pos']>= 3255001)&(df['pos']<=3273001)].dropna()\\\n",
    "               [list(pd.DataFrame(rename).T['type'].map(type).astype(str)+'_'+pd.DataFrame(rename).T['ID'])].T,\\\n",
    "               cmap='coolwarm', figsize=[6,10], method='ward', dendrogram_ratio=0.01, xticklabels=False, col_cluster=False, row_cluster=False)\n",
    "cm.cax.set_visible(False)\n",
    "# cm.fig.suptitle('pub') "
   ]
  },
  {
   "cell_type": "code",
   "execution_count": null,
   "id": "f84fcaaf-55a6-4fb2-844b-09b472b60696",
   "metadata": {},
   "outputs": [],
   "source": [
    "sns.color_palette(\"Paired\")"
   ]
  },
  {
   "cell_type": "code",
   "execution_count": null,
   "id": "b9b93003-b8b8-4d33-948b-50378cccfa1f",
   "metadata": {},
   "outputs": [],
   "source": [
    "param_m = '.m5'\n",
    "param_NA = 'noNA'\n",
    "\n",
    "DMRs = pd.read_table('../metilene_output/Blood.metilene'+param_m+'.chr2x.'+param_NA+'.output', skiprows=90)\n",
    "id_convert = {}\n",
    "Predictions_anno = pd.read_table('../metilene_output/Blood.metilene'+param_m+'.chr2x.'+param_NA+'.output', encoding='iso-8859-1', sep='@', header=None).head(90)\n",
    "for i in Predictions_anno.index:\n",
    "    id_convert[int(Predictions_anno.loc[i][0].split(':')[0].split('Combination ')[1])] = \\\n",
    "    Predictions_anno.loc[i][0].split('Group A subgroups: ')[1].split(',\tGroup B subgroups: ')[0]+'|'+\\\n",
    "    Predictions_anno.loc[i][0].split('Group A subgroups: ')[1].split(',\tGroup B subgroups: ')[1][:-1]\n",
    "    \n",
    "DMRs = DMRs.loc[DMRs['chr'] =='chr2']\n",
    "inDMRs = {}\n",
    "inDMRs2 = {}\n",
    "for i in DMRs.index:\n",
    "    for j in range(int(DMRs['start'][i])+1, int(DMRs['stop'][i]+1)):\n",
    "        inDMRs[j] = DMRs['sig.comparison'][i]\n",
    "        inDMRs2[j] = DMRs['p'][i]\n",
    "\n",
    "df = pd.read_table('./Blood.metilene.chr2x.'+param_NA+'.input')\n",
    "\n",
    "DMR_ids = sorted(df.loc[(df['chrom']=='chr2')&(df['pos']>= 3255001)&(df['pos']<=3273001)]['pos'].map(inDMRs).dropna().unique())\n",
    "\n",
    "cDMRs = {}\n",
    "for i in range(len(DMR_ids)):\n",
    "    print(i, DMR_ids[i], id_convert[DMR_ids[i]])\n",
    "    cDMRs[DMR_ids[i]] = sns.color_palette(\"Paired\")[i]\n",
    "    \n",
    "\n",
    "cm = sns.clustermap(df.loc[(df['chrom']=='chr2')&(df['pos']>= 3255001)&(df['pos']<=3273001)]\\\n",
    "               [sorted(pd.DataFrame(rename).T['type'].map(type).astype(str)+'_'+pd.DataFrame(rename).T['ID'], reverse=True)].T,\\\n",
    "               col_colors=df.loc[(df['chrom']=='chr2')&(df['pos']>= 3255001)&(df['pos']<=3273001)]['pos'].map(inDMRs).map(cDMRs),\\\n",
    "               cmap='coolwarm', figsize=[6,10], method='ward', dendrogram_ratio=0.01, xticklabels=False, col_cluster=False, row_cluster=False)\n",
    "cm.cax.set_visible(False)"
   ]
  },
  {
   "cell_type": "code",
   "execution_count": null,
   "id": "e2e48342-3c7b-491d-9dc6-741784d6c660",
   "metadata": {},
   "outputs": [],
   "source": [
    "param_m = ''\n",
    "param_NA = 'noNA'\n",
    "\n",
    "DMRs = pd.read_table('../metilene_output/Blood.metilene'+param_m+'.chr2x.'+param_NA+'.output', skiprows=90)\n",
    "id_convert = {}\n",
    "Predictions_anno = pd.read_table('../metilene_output/Blood.metilene'+param_m+'.chr2x.'+param_NA+'.output', encoding='iso-8859-1', sep='@', header=None).head(90)\n",
    "for i in Predictions_anno.index:\n",
    "    id_convert[int(Predictions_anno.loc[i][0].split(':')[0].split('Combination ')[1])] = \\\n",
    "    Predictions_anno.loc[i][0].split('Group A subgroups: ')[1].split(',\tGroup B subgroups: ')[0]+'|'+\\\n",
    "    Predictions_anno.loc[i][0].split('Group A subgroups: ')[1].split(',\tGroup B subgroups: ')[1][:-1]\n",
    "    \n",
    "DMRs = DMRs.loc[DMRs['chr'] =='chr2']\n",
    "inDMRs = {}\n",
    "inDMRs2 = {}\n",
    "for i in DMRs.index:\n",
    "    for j in range(int(DMRs['start'][i])+1, int(DMRs['stop'][i]+1)):\n",
    "        inDMRs[j] = DMRs['sig.comparison'][i]\n",
    "        inDMRs2[j] = DMRs['p'][i]\n",
    "\n",
    "df = pd.read_table('./Blood.metilene.chr2x.'+param_NA+'.input')\n",
    "\n",
    "DMR_ids = sorted(df.loc[(df['chrom']=='chr2')&(df['pos']>= 3255001)&(df['pos']<=3273001)]['pos'].map(inDMRs).dropna().unique())\n",
    "\n",
    "cDMRs = {}\n",
    "for i in range(len(DMR_ids)):\n",
    "    print(i, DMR_ids[i], id_convert[DMR_ids[i]])\n",
    "    cDMRs[DMR_ids[i]] = sns.color_palette(\"Paired\")[i]\n",
    "    \n",
    "\n",
    "cm = sns.clustermap(df.loc[(df['chrom']=='chr2')&(df['pos']>= 3255001)&(df['pos']<=3273001)]\\\n",
    "               [sorted(pd.DataFrame(rename).T['type'].map(type).astype(str)+'_'+pd.DataFrame(rename).T['ID'], reverse=True)].T,\\\n",
    "               col_colors=df.loc[(df['chrom']=='chr2')&(df['pos']>= 3255001)&(df['pos']<=3273001)]['pos'].map(inDMRs).map(cDMRs),\\\n",
    "               cmap='coolwarm', figsize=[6,10], method='ward', dendrogram_ratio=0.01, xticklabels=False, col_cluster=False, row_cluster=False)\n",
    "cm.cax.set_visible(False)"
   ]
  },
  {
   "cell_type": "code",
   "execution_count": null,
   "id": "5592fe99-e0e4-4ed9-bcee-654f6a3ee90e",
   "metadata": {},
   "outputs": [],
   "source": [
    "param_m = '.m5'\n",
    "param_NA = 'fillNA'\n",
    "\n",
    "DMRs = pd.read_table('../metilene_output/Blood.metilene'+param_m+'.chr2x.'+param_NA+'.output', skiprows=90)\n",
    "id_convert = {}\n",
    "Predictions_anno = pd.read_table('../metilene_output/Blood.metilene'+param_m+'.chr2x.'+param_NA+'.output', encoding='iso-8859-1', sep='@', header=None).head(90)\n",
    "for i in Predictions_anno.index:\n",
    "    id_convert[int(Predictions_anno.loc[i][0].split(':')[0].split('Combination ')[1])] = \\\n",
    "    Predictions_anno.loc[i][0].split('Group A subgroups: ')[1].split(',\tGroup B subgroups: ')[0]+'|'+\\\n",
    "    Predictions_anno.loc[i][0].split('Group A subgroups: ')[1].split(',\tGroup B subgroups: ')[1][:-1]\n",
    "    \n",
    "DMRs = DMRs.loc[DMRs['chr'] =='chr2']\n",
    "inDMRs = {}\n",
    "inDMRs2 = {}\n",
    "for i in DMRs.index:\n",
    "    for j in range(int(DMRs['start'][i])+1, int(DMRs['stop'][i]+1)):\n",
    "        inDMRs[j] = DMRs['sig.comparison'][i]\n",
    "        inDMRs2[j] = DMRs['p'][i]\n",
    "\n",
    "df = pd.read_table('./Blood.metilene.chr2x.'+param_NA+'.input')\n",
    "\n",
    "DMR_ids = sorted(df.loc[(df['chrom']=='chr2')&(df['pos']>= 3255001)&(df['pos']<=3273001)]['pos'].map(inDMRs).dropna().unique())\n",
    "\n",
    "cDMRs = {}\n",
    "for i in range(len(DMR_ids)):\n",
    "    print(i, DMR_ids[i], id_convert[DMR_ids[i]])\n",
    "    cDMRs[DMR_ids[i]] = sns.color_palette(\"Paired\")[i]\n",
    "    \n",
    "\n",
    "cm = sns.clustermap(df.loc[(df['chrom']=='chr2')&(df['pos']>= 3255001)&(df['pos']<=3273001)]\\\n",
    "               [sorted(pd.DataFrame(rename).T['type'].map(type).astype(str)+'_'+pd.DataFrame(rename).T['ID'], reverse=True)].T,\\\n",
    "               col_colors=df.loc[(df['chrom']=='chr2')&(df['pos']>= 3255001)&(df['pos']<=3273001)]['pos'].map(inDMRs).map(cDMRs),\\\n",
    "               cmap='coolwarm', figsize=[6,10], method='ward', dendrogram_ratio=0.01, xticklabels=False, col_cluster=False, row_cluster=False)\n",
    "cm.cax.set_visible(False)"
   ]
  },
  {
   "cell_type": "code",
   "execution_count": null,
   "id": "116f726a-146e-4b5c-920b-240a6fb8f8aa",
   "metadata": {},
   "outputs": [],
   "source": [
    "param_m = ''\n",
    "param_NA = 'fillNA'\n",
    "\n",
    "DMRs = pd.read_table('../metilene_output/Blood.metilene'+param_m+'.chr2x.'+param_NA+'.output', skiprows=90)\n",
    "id_convert = {}\n",
    "Predictions_anno = pd.read_table('../metilene_output/Blood.metilene'+param_m+'.chr2x.'+param_NA+'.output', encoding='iso-8859-1', sep='@', header=None).head(90)\n",
    "for i in Predictions_anno.index:\n",
    "    id_convert[int(Predictions_anno.loc[i][0].split(':')[0].split('Combination ')[1])] = \\\n",
    "    Predictions_anno.loc[i][0].split('Group A subgroups: ')[1].split(',\tGroup B subgroups: ')[0]+'|'+\\\n",
    "    Predictions_anno.loc[i][0].split('Group A subgroups: ')[1].split(',\tGroup B subgroups: ')[1][:-1]\n",
    "    \n",
    "DMRs = DMRs.loc[DMRs['chr'] =='chr2']\n",
    "inDMRs = {}\n",
    "inDMRs2 = {}\n",
    "for i in DMRs.index:\n",
    "    for j in range(int(DMRs['start'][i])+1, int(DMRs['stop'][i]+1)):\n",
    "        inDMRs[j] = DMRs['sig.comparison'][i]\n",
    "        inDMRs2[j] = DMRs['p'][i]\n",
    "\n",
    "df = pd.read_table('./Blood.metilene.chr2x.'+param_NA+'.input')\n",
    "\n",
    "DMR_ids = sorted(df.loc[(df['chrom']=='chr2')&(df['pos']>= 3255001)&(df['pos']<=3273001)]['pos'].map(inDMRs).dropna().unique())\n",
    "\n",
    "cDMRs = {}\n",
    "for i in range(len(DMR_ids)):\n",
    "    print(i, DMR_ids[i], id_convert[DMR_ids[i]])\n",
    "    cDMRs[DMR_ids[i]] = sns.color_palette(\"Paired\")[i]\n",
    "    \n",
    "\n",
    "cm = sns.clustermap(df.loc[(df['chrom']=='chr2')&(df['pos']>= 3255001)&(df['pos']<=3273001)]\\\n",
    "               [sorted(pd.DataFrame(rename).T['type'].map(type).astype(str)+'_'+pd.DataFrame(rename).T['ID'], reverse=True)].T,\\\n",
    "               col_colors=df.loc[(df['chrom']=='chr2')&(df['pos']>= 3255001)&(df['pos']<=3273001)]['pos'].map(inDMRs).map(cDMRs),\\\n",
    "               cmap='coolwarm', figsize=[6,10], method='ward', dendrogram_ratio=0.01, xticklabels=False, col_cluster=False, row_cluster=False)\n",
    "cm.cax.set_visible(False)"
   ]
  }
 ],
 "metadata": {
  "kernelspec": {
   "display_name": "Python 3 (ipykernel)",
   "language": "python",
   "name": "python3"
  },
  "language_info": {
   "codemirror_mode": {
    "name": "ipython",
    "version": 3
   },
   "file_extension": ".py",
   "mimetype": "text/x-python",
   "name": "python",
   "nbconvert_exporter": "python",
   "pygments_lexer": "ipython3",
   "version": "3.10.6"
  }
 },
 "nbformat": 4,
 "nbformat_minor": 5
}
